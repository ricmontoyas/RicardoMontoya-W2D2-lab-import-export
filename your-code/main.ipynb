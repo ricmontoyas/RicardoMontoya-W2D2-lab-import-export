{
 "cells": [
  {
   "cell_type": "markdown",
   "metadata": {},
   "source": [
    "# Import and Export Files \n",
    "\n"
   ]
  },
  {
   "cell_type": "markdown",
   "metadata": {},
   "source": [
    "# Challenge 1 - Working with JSON files\n",
    "Import the pandas library."
   ]
  },
  {
   "cell_type": "code",
   "execution_count": 16,
   "metadata": {},
   "outputs": [],
   "source": [
    "# Step 1: Import the pandas library\n",
    "import pandas as pd\n",
    "\n",
    "# Import Pandas:\n",
    "# The pandas library is imported because it's a powerful tool for data manipulation and analysis, including reading and writing JSON files."
   ]
  },
  {
   "cell_type": "markdown",
   "metadata": {},
   "source": [
    "In the next cell, load the data in nasa.json in the data folder and load it into a pandas dataframe. Name the dataframe nasa."
   ]
  },
  {
   "cell_type": "code",
   "execution_count": 20,
   "metadata": {},
   "outputs": [],
   "source": [
    "# Step 2: Load the JSON file into a DataFrame named \"nasa\"\n",
    "nasa = pd.read_json(\"nasa.json\")\n",
    "\n",
    "# Load the JSON file into a DataFrame:\n",
    "# We use pd.read_json(\"data/nasa.json\") to read the JSON file containing NASA data and store it in a DataFrame named nasa. This assumes the file is located inside a folder called data."
   ]
  },
  {
   "cell_type": "markdown",
   "metadata": {},
   "source": [
    "Now that we have loaded the data, let's examine it using the head() function."
   ]
  },
  {
   "cell_type": "code",
   "execution_count": 26,
   "metadata": {},
   "outputs": [
    {
     "name": "stdout",
     "output_type": "stream",
     "text": [
      "   :@computed_region_cbhk_fwbd  :@computed_region_nnqa_25f4  fall  \\\n",
      "0                          NaN                          NaN  Fell   \n",
      "1                          NaN                          NaN  Fell   \n",
      "2                          NaN                          NaN  Fell   \n",
      "3                          NaN                          NaN  Fell   \n",
      "4                          NaN                          NaN  Fell   \n",
      "\n",
      "                                         geolocation   id      mass      name  \\\n",
      "0  {'type': 'Point', 'coordinates': [6.08333, 50....    1      21.0    Aachen   \n",
      "1  {'type': 'Point', 'coordinates': [10.23333, 56...    2     720.0    Aarhus   \n",
      "2  {'type': 'Point', 'coordinates': [-113, 54.216...    6  107000.0      Abee   \n",
      "3  {'type': 'Point', 'coordinates': [-99.9, 16.88...   10    1914.0  Acapulco   \n",
      "4  {'type': 'Point', 'coordinates': [-64.95, -33....  370     780.0   Achiras   \n",
      "\n",
      "  nametype     recclass    reclat    reclong                     year  \n",
      "0    Valid           L5  50.77500    6.08333  1880-01-01T00:00:00.000  \n",
      "1    Valid           H6  56.18333   10.23333  1951-01-01T00:00:00.000  \n",
      "2    Valid          EH4  54.21667 -113.00000  1952-01-01T00:00:00.000  \n",
      "3    Valid  Acapulcoite  16.88333  -99.90000  1976-01-01T00:00:00.000  \n",
      "4    Valid           L6 -33.16667  -64.95000  1902-01-01T00:00:00.000  \n"
     ]
    }
   ],
   "source": [
    "# Step 3: Display the first few rows of the DataFrame to verify the data loaded correctly\n",
    "print(nasa.head())\n",
    "\n",
    "\n",
    "# Examine the data using head():\n",
    "# The nasa.head() function displays the first 5 rows of the DataFrame to check if the data was loaded correctly."
   ]
  },
  {
   "cell_type": "markdown",
   "metadata": {},
   "source": [
    "####  The value_counts() function is commonly used in pandas to find the frequency of every value in a column.\n",
    "\n",
    "In the cell below, use the value_counts() function to determine the frequency of all types of asteroid landings by applying the function to the fall column."
   ]
  },
  {
   "cell_type": "code",
   "execution_count": 28,
   "metadata": {},
   "outputs": [
    {
     "name": "stdout",
     "output_type": "stream",
     "text": [
      "fall\n",
      "Fell     996\n",
      "Found      4\n",
      "Name: count, dtype: int64\n"
     ]
    }
   ],
   "source": [
    "# Step 4: Use the value_counts() function on the \"fall\" column to count the frequency of each type of asteroid landing\n",
    "fall_counts = nasa[\"fall\"].value_counts()\n",
    "print(fall_counts)\n",
    "\n",
    "\n",
    "# Count the frequency of values in the \"fall\" column:\n",
    "# The value_counts() function is applied to the \"fall\" column to count how many times each type of asteroid landing occurs. This helps us understand the distribution of landing types."
   ]
  },
  {
   "cell_type": "markdown",
   "metadata": {},
   "source": [
    "Finally, let's save the dataframe as a json file again. Save the dataframe using the orient=records argument and name the file nasa-output.json. Remember to save the file inside the data folder."
   ]
  },
  {
   "cell_type": "code",
   "execution_count": 62,
   "metadata": {},
   "outputs": [],
   "source": [
    "# Step 5: Save the DataFrame as a JSON file using the \"records\" format\n",
    "nasa.to_json(\"data/nasa-output.json\", orient=\"records\")\n",
    "\n",
    "\n",
    "# Save the DataFrame as a new JSON file:\n",
    "# The to_json() function saves the DataFrame as a JSON file using the \"records\" format. This means each row is stored as a separate JSON object within a list. The file is saved as nasa-output.json inside the data folder."
   ]
  },
  {
   "cell_type": "markdown",
   "metadata": {},
   "source": [
    "# Challenge 2 - Working with CSV and Other Separated Files\n",
    "\n",
    "Import the pandas library\n",
    "\n",
    "csv files are more commonly used as dataframes. In the cell below, load the file from the URL provided using the `read_csv()` function in pandas. Starting version 0.19 of pandas, you can load a csv file into a dataframe directly from a URL without having to load the file first like we did with the JSON URL. The dataset we will be using contains informtaions about NASA shuttles. \n",
    "\n",
    "In the cell below, we define the column names and the URL of the data. Following this cell, read the tst file to a variable called `shuttle`. Since the file does not contain the column names, you must add them yourself using the column names declared in `cols` using the `names` argument. Additionally, a tst file is space separated, make sure you pass ` sep=' '` to the function.There's a total of 9 relevant columns, knowing in the txt file it has 10, where the first one relates to the index. Find more information [here](https://archive.ics.uci.edu/dataset/148/statlog+shuttle)"
   ]
  },
  {
   "cell_type": "code",
   "execution_count": 70,
   "metadata": {},
   "outputs": [],
   "source": [
    "#Your pandas import here:\n",
    "# ✅ Why? Pandas is needed to read and manipulate the dataset.\n",
    "\n",
    "import pandas as pd"
   ]
  },
  {
   "cell_type": "code",
   "execution_count": 74,
   "metadata": {},
   "outputs": [],
   "source": [
    "# Step 2: Load the tst file into a DataFrame\n",
    "# Run this code:\n",
    "\n",
    "cols = ['time', 'rad_flow', 'fpv_close', 'fpv_open', 'high', 'bypass', 'bpv_close', 'bpv_open', 'class']\n",
    "tst_url = 'https://archive.ics.uci.edu/ml/machine-learning-databases/statlog/shuttle/shuttle.tst'\n",
    "\n",
    "# Define column names\n",
    "cols = ['time', 'rad_flow', 'fpv_close', 'fpv_open', 'high', 'bypass', 'bpv_close', 'bpv_open', 'class']\n",
    "tst_url = 'https://archive.ics.uci.edu/ml/machine-learning-databases/statlog/shuttle/shuttle.tst'\n",
    "\n",
    "# Read the space-separated file into a DataFrame\n",
    "shuttle = pd.read_csv(tst_url, sep=' ', names=cols, index_col=0)\n",
    "\n",
    "\n",
    "# ✅ Why?\n",
    "# The read_csv() function is used to read a space-separated text file.\n",
    "# sep=' ' ensures that spaces are used as column separators.\n",
    "# names=cols assigns column names manually since the file doesn’t contain headers.\n",
    "# index_col=0 skips the first column, as it’s just an index."
   ]
  },
  {
   "cell_type": "markdown",
   "metadata": {},
   "source": [
    "Let's verify that this worked by looking at the `head()` function."
   ]
  },
  {
   "cell_type": "code",
   "execution_count": 76,
   "metadata": {},
   "outputs": [
    {
     "name": "stdout",
     "output_type": "stream",
     "text": [
      "    time  rad_flow  fpv_close  fpv_open  high  bypass  bpv_close  bpv_open  \\\n",
      "55     0        81          0        -6    11      25         88        64   \n",
      "56     0        96          0        52    -4      40         44         4   \n",
      "50    -1        89         -7        50     0      39         40         2   \n",
      "53     9        79          0        42    -2      25         37        12   \n",
      "55     2        82          0        54    -6      26         28         2   \n",
      "\n",
      "    class  \n",
      "55      4  \n",
      "56      4  \n",
      "50      1  \n",
      "53      4  \n",
      "55      1  \n"
     ]
    }
   ],
   "source": [
    "# Step 3: Verify the Data with head()\n",
    "# Your code here:\n",
    "\n",
    "print(shuttle.head())\n",
    "\n",
    "# ✅ Why?\n",
    "# head() displays the first 5 rows to confirm the data is loaded correctly"
   ]
  },
  {
   "cell_type": "markdown",
   "metadata": {},
   "source": [
    "To make life easier for us, let's turn this dataframe into a comma separated file by saving it using the `to_csv()` function. Save `shuttle` into the file `shuttle.csv` and ensure the file is comma separated and that we are not saving the index column."
   ]
  },
  {
   "cell_type": "code",
   "execution_count": 80,
   "metadata": {},
   "outputs": [],
   "source": [
    "# Step 4: Save the DataFrame as a CSV file\n",
    "# Your code here:\n",
    "\n",
    "shuttle.to_csv(\"shuttle.csv\", index=False)\n",
    "\n",
    "\n",
    "# ✅ Why?\n",
    "# to_csv() saves the DataFrame as a comma-separated file (CSV).\n",
    "# index=False prevents writing the index column to the file."
   ]
  },
  {
   "cell_type": "markdown",
   "metadata": {},
   "source": [
    "# Challenge 3 - Working with Excel Files\n",
    "\n",
    "We can also use pandas to convert excel spreadsheets to dataframes. Let's use the `read_excel()` function. In this case, `astronauts.xls` is in the same folder that contains this notebook. Read this file into a variable called `astronaut`. \n",
    "\n",
    "Note: Make sure to install the `xlrd` library if it is not yet installed."
   ]
  },
  {
   "cell_type": "code",
   "execution_count": 87,
   "metadata": {},
   "outputs": [
    {
     "name": "stdout",
     "output_type": "stream",
     "text": [
      "Requirement already satisfied: xlrd in /opt/anaconda3/lib/python3.12/site-packages (2.0.1)\n"
     ]
    }
   ],
   "source": [
    "# Step 1: Install Necessary Dependencies\n",
    "#Before working with Excel files, ensure that the openpyxl or xlrd library is installed. Since .xls files are older Excel formats, we may need xlrd:\n",
    "# ✅ Why?\n",
    "# pandas.read_excel() requires xlrd for .xls files and openpyxl for .xlsx files.\n",
    "\n",
    "# Your code here:\n",
    "!pip install xlrd  # Install xlrd if it's not installed (for .xls files)\n",
    "\n",
    "\n",
    "#Step 2: Import Pandas & Load the Excel File\n",
    "#✅ Why?\n",
    "# read_excel() reads Excel files into a Pandas DataFrame.\n",
    "# We assume astronauts.xls is in the same directory as the notebook.\n",
    "# import pandas as pd\n",
    "\n",
    "# Load the Excel file into a DataFrame\n",
    "astronaut = pd.read_excel(\"astronauts.xls\")"
   ]
  },
  {
   "cell_type": "markdown",
   "metadata": {},
   "source": [
    "Use the `head()` function to inspect the dataframe."
   ]
  },
  {
   "cell_type": "code",
   "execution_count": 89,
   "metadata": {},
   "outputs": [
    {
     "name": "stdout",
     "output_type": "stream",
     "text": [
      "               Name    Year  Group   Status Birth Date    Birth Place Gender  \\\n",
      "0   Joseph M. Acaba  2004.0   19.0   Active 1967-05-17  Inglewood, CA   Male   \n",
      "1    Loren W. Acton     NaN    NaN  Retired 1936-03-07   Lewiston, MT   Male   \n",
      "2  James C. Adamson  1984.0   10.0  Retired 1946-03-03     Warsaw, NY   Male   \n",
      "3   Thomas D. Akers  1987.0   12.0  Retired 1951-05-20  St. Louis, MO   Male   \n",
      "4       Buzz Aldrin  1963.0    3.0  Retired 1930-01-20  Montclair, NJ   Male   \n",
      "\n",
      "                                          Alma Mater     Undergraduate Major  \\\n",
      "0  University of California-Santa Barbara; Univer...                 Geology   \n",
      "1   Montana State University; University of Colorado     Engineering Physics   \n",
      "2          US Military Academy; Princeton University             Engineering   \n",
      "3                       University of Missouri-Rolla     Applied Mathematics   \n",
      "4                           US Military Academy; MIT  Mechanical Engineering   \n",
      "\n",
      "          Graduate Major Military Rank         Military Branch  Space Flights  \\\n",
      "0                Geology           NaN                     NaN              2   \n",
      "1          Solar Physics           NaN                     NaN              1   \n",
      "2  Aerospace Engineering       Colonel       US Army (Retired)              2   \n",
      "3    Applied Mathematics       Colonel  US Air Force (Retired)              4   \n",
      "4           Astronautics       Colonel  US Air Force (Retired)              2   \n",
      "\n",
      "   Space Flight (hr)  Space Walks  Space Walks (hr)  \\\n",
      "0               3307            2              13.0   \n",
      "1                190            0               0.0   \n",
      "2                334            0               0.0   \n",
      "3                814            4              29.0   \n",
      "4                289            2               8.0   \n",
      "\n",
      "                                            Missions Death Date Death Mission  \n",
      "0             STS-119 (Discovery), ISS-31/32 (Soyuz)        NaT           NaN  \n",
      "1                              STS 51-F (Challenger)        NaT           NaN  \n",
      "2               STS-28 (Columbia), STS-43 (Atlantis)        NaT           NaN  \n",
      "3  STS-41 (Discovery), STS-49 (Endeavor), STS-61 ...        NaT           NaN  \n",
      "4                               Gemini 12, Apollo 11        NaT           NaN  \n"
     ]
    }
   ],
   "source": [
    "# Step 3: Inspect the First Rows Using head()\n",
    "# ✅ Why?\n",
    "# head() displays the first 5 rows to verify the data was loaded correctly.\n",
    "\n",
    "# Your code here:\n",
    "print(astronaut.head())"
   ]
  },
  {
   "cell_type": "markdown",
   "metadata": {},
   "source": [
    "Use the `value_counts()` function to find the most popular undergraduate major among all astronauts."
   ]
  },
  {
   "cell_type": "code",
   "execution_count": 92,
   "metadata": {},
   "outputs": [
    {
     "name": "stdout",
     "output_type": "stream",
     "text": [
      "Undergraduate Major\n",
      "Physics                                  35\n",
      "Aerospace Engineering                    33\n",
      "Mechanical Engineering                   30\n",
      "Aeronautical Engineering                 28\n",
      "Electrical Engineering                   23\n",
      "                                         ..\n",
      "Mathematics & Statistics; Chemistry       1\n",
      "Nuclear Engineering                       1\n",
      "Mechanical & Aeronautical Engineering     1\n",
      "Molecular Biology                         1\n",
      "Earth & Planetary Science                 1\n",
      "Name: count, Length: 83, dtype: int64\n"
     ]
    }
   ],
   "source": [
    "# Step 4: Find the Most Popular Undergraduate Major\n",
    "# ✅ Why?\n",
    "# The value_counts() function counts how many times each major appears.\n",
    "# Adjust the column name (\"Undergraduate Major\") if necessary.\n",
    "\n",
    "# Your code here:\n",
    "print(astronaut[\"Undergraduate Major\"].value_counts())"
   ]
  },
  {
   "cell_type": "markdown",
   "metadata": {},
   "source": [
    "Due to all the commas present in the cells of this file, let's save it as a tab separated csv file. In the cell below, save `astronaut` as a tab separated file using the `to_csv` function. Call the file `astronaut.csv` and remember to remove the index column."
   ]
  },
  {
   "cell_type": "code",
   "execution_count": 97,
   "metadata": {},
   "outputs": [
    {
     "name": "stdout",
     "output_type": "stream",
     "text": [
      "The file 'astronaut.csv' has been saved successfully as a tab-separated file.\n"
     ]
    }
   ],
   "source": [
    "# Step 5: Save as a Tab-Separated CSV File (.tsv)\n",
    "# ✅ Why?\n",
    "# sep=\"\\t\" ensures the file is tab-separated instead of comma-separated.\n",
    "# index=False prevents saving the index column.\n",
    "\n",
    "# Your code here:\n",
    "astronaut.to_csv(\"astronaut.csv\", sep=\"\\t\", index=False)\n",
    "\n",
    "# Print a confirmation message\n",
    "print(\"The file 'astronaut.csv' has been saved successfully as a tab-separated file.\")"
   ]
  }
 ],
 "metadata": {
  "kernelspec": {
   "display_name": "Python [conda env:base] *",
   "language": "python",
   "name": "conda-base-py"
  },
  "language_info": {
   "codemirror_mode": {
    "name": "ipython",
    "version": 3
   },
   "file_extension": ".py",
   "mimetype": "text/x-python",
   "name": "python",
   "nbconvert_exporter": "python",
   "pygments_lexer": "ipython3",
   "version": "3.12.7"
  }
 },
 "nbformat": 4,
 "nbformat_minor": 4
}
